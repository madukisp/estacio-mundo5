{
  "nbformat": 4,
  "nbformat_minor": 0,
  "metadata": {
    "colab": {
      "provenance": [],
      "authorship_tag": "ABX9TyNDe2Q/kdhFtrcTJEVSvj49",
      "include_colab_link": true
    },
    "kernelspec": {
      "name": "python3",
      "display_name": "Python 3"
    },
    "language_info": {
      "name": "python"
    }
  },
  "cells": [
    {
      "cell_type": "markdown",
      "metadata": {
        "id": "view-in-github",
        "colab_type": "text"
      },
      "source": [
        "<a href=\"https://colab.research.google.com/github/madukisp/estacio-mundo5/blob/main/sentiment.ipynb\" target=\"_parent\"><img src=\"https://colab.research.google.com/assets/colab-badge.svg\" alt=\"Open In Colab\"/></a>"
      ]
    },
    {
      "cell_type": "markdown",
      "source": [
        "# Análise de Sentimentos."
      ],
      "metadata": {
        "id": "TjlaOjvqS93L"
      }
    },
    {
      "cell_type": "markdown",
      "source": [
        "Instalando as bibliotecas e recarregando o ambiente"
      ],
      "metadata": {
        "id": "Jz6GXz__TJPW"
      }
    },
    {
      "cell_type": "code",
      "execution_count": 10,
      "metadata": {
        "colab": {
          "base_uri": "https://localhost:8080/"
        },
        "id": "E2yYyw4BHdBc",
        "outputId": "7bcae3ad-f945-406e-a1f6-0ca041b7aba8"
      },
      "outputs": [
        {
          "output_type": "stream",
          "name": "stdout",
          "text": [
            "Requirement already satisfied: nltk in /usr/local/lib/python3.10/dist-packages (3.9.1)\n",
            "Requirement already satisfied: click in /usr/local/lib/python3.10/dist-packages (from nltk) (8.1.7)\n",
            "Requirement already satisfied: joblib in /usr/local/lib/python3.10/dist-packages (from nltk) (1.4.2)\n",
            "Requirement already satisfied: regex>=2021.8.3 in /usr/local/lib/python3.10/dist-packages (from nltk) (2024.9.11)\n",
            "Requirement already satisfied: tqdm in /usr/local/lib/python3.10/dist-packages (from nltk) (4.66.5)\n"
          ]
        }
      ],
      "source": [
        "!pip install -U nltk\n"
      ]
    },
    {
      "cell_type": "markdown",
      "source": [
        "Importando as bibliotecas\n",
        "para análise de sentimento"
      ],
      "metadata": {
        "id": "3MsuudvFTQbs"
      }
    },
    {
      "cell_type": "code",
      "source": [
        "import nltk\n",
        "nltk.download('vader_lexicon')\n"
      ],
      "metadata": {
        "colab": {
          "base_uri": "https://localhost:8080/"
        },
        "id": "JH4zVjXCHjiI",
        "outputId": "d015dd7c-4759-495e-e0e4-13fbc25fd1b3"
      },
      "execution_count": 11,
      "outputs": [
        {
          "output_type": "stream",
          "name": "stderr",
          "text": [
            "[nltk_data] Downloading package vader_lexicon to /root/nltk_data...\n",
            "[nltk_data]   Package vader_lexicon is already up-to-date!\n"
          ]
        },
        {
          "output_type": "execute_result",
          "data": {
            "text/plain": [
              "True"
            ]
          },
          "metadata": {},
          "execution_count": 11
        }
      ]
    },
    {
      "cell_type": "markdown",
      "source": [
        "Definindo o texto inicial a ser\n",
        "analisado para verificação/validação da biblioteca"
      ],
      "metadata": {
        "id": "bZlIZPrITZmq"
      }
    },
    {
      "cell_type": "code",
      "source": [
        "from nltk.sentiment.vader import SentimentIntensityAnalyzer\n",
        "\n",
        "sia = SentimentIntensityAnalyzer()\n",
        "\n",
        "# texto inicial para teste\n",
        "user_input = \"This is a wonderful campsite. I loved the serenity and the birds chirping in the morning.\"\n",
        "\n",
        "# sentimento do texto\n",
        "sentiment = sia.polarity_scores(user_input)\n",
        "\n",
        "print(sentiment)\n"
      ],
      "metadata": {
        "colab": {
          "base_uri": "https://localhost:8080/"
        },
        "id": "-Ab2t1GCHoY_",
        "outputId": "06ff809f-8f19-4d44-d1a2-be6db97dd8b2"
      },
      "execution_count": 18,
      "outputs": [
        {
          "output_type": "stream",
          "name": "stdout",
          "text": [
            "{'neg': 0.0, 'neu': 0.612, 'pos': 0.388, 'compound': 0.8225}\n"
          ]
        }
      ]
    },
    {
      "cell_type": "markdown",
      "source": [
        "Definindo a lista de tweets a serem analisadas"
      ],
      "metadata": {
        "id": "a1NJKIbJUK3C"
      }
    },
    {
      "cell_type": "code",
      "source": [
        "tweets = [\n",
        "    \"Bayer Leverkusen goalkeeper Bernd Leno will not be going to Napoli. His agent, Uli Ferber, to Bild: I can confirm that there were negotiations with Napoli, which we have broken off. Napoli is not an option. Atletico Madrid and Arsenal are the other strong rumors. #B04 #AFC\",\n",
        "    \"Gary Speed vs Blackburn at St James in 2001/02, anyone? #NUFC #BEL #JAP #WorldCup\",\n",
        "    \"@ChelseaFC Don't make him regret it and start him over Hoofiz\",\n",
        "    \"@LiverpoolFF @AnfieldEdition He's a liar, made up. I've unfollowed him as loads of others have. Pure blagger. #LFC\",\n",
        "    \"@theesk @Everton Didn't realize Kenwright is due to leave at the end of the month. In all seriousness could you see him being interested in us?\",\n",
        "    \"Report: Linked with #Everton and #Wolves, Italians set to sign £4.5m-rated winger\",\n",
        "    \"@ChelseaFC For the first time in a long while, my heart was relaxed while watching Chelsea. Really enjoyed it today. Come on, CHELSEA!!!\",\n",
        "    \"Pogba scores, Pogba assists. But tomorrow papers won't be telling you this, instead they will tell you how he'll end up at Juve because he's unhappy, frustrated, has grudges with Mourinho and so on and so forth #mufc\",\n",
        "    \"@WestHamUtd we need to keep @CH14_ and get @HirvingLozano70 to complement\",\n",
        "    \"@brfootball @aguerosergiokun @ManCity What a genius. Pep taking winning mentality with him, conquering league after league. Baller\"\n",
        "]"
      ],
      "metadata": {
        "id": "BvdqBSqNHu8-"
      },
      "execution_count": 19,
      "outputs": []
    },
    {
      "cell_type": "markdown",
      "source": [
        "Analisando os tweets"
      ],
      "metadata": {
        "id": "ZNxKdUqOT106"
      }
    },
    {
      "cell_type": "code",
      "source": [
        "# Analisando o sentimento de cada tweet\n",
        "for tweet in tweets:\n",
        "    sentiment = sia.polarity_scores(tweet)\n",
        "    print(f\"Tweet: {tweet}\")\n",
        "    print(f\"Resultado da análise: {sentiment}\\n\")\n"
      ],
      "metadata": {
        "colab": {
          "base_uri": "https://localhost:8080/"
        },
        "id": "DtCwLaX6HyPr",
        "outputId": "6975fec6-c013-48ec-e25a-00ccf5a5364b"
      },
      "execution_count": 16,
      "outputs": [
        {
          "output_type": "stream",
          "name": "stdout",
          "text": [
            "Tweet: Bayer Leverkusen goalkeeper Bernd Leno will not be going to Napoli. His agent, Uli Ferber, to Bild: I can confirm that there were negotiations with Napoli, which we have broken off. Napoli is not an option. Atletico Madrid and Arsenal are the other strong rumors. #B04 #AFC\n",
            "Resultado da análise: {'neg': 0.062, 'neu': 0.873, 'pos': 0.065, 'compound': 0.0516}\n",
            "\n",
            "Tweet: Gary Speed vs Blackburn at St James in 2001/02, anyone? #NUFC #BEL #JAP #WorldCup\n",
            "Resultado da análise: {'neg': 0.0, 'neu': 1.0, 'pos': 0.0, 'compound': 0.0}\n",
            "\n",
            "Tweet: @ChelseaFC Don't make him regret it and start him over Hoofiz\n",
            "Resultado da análise: {'neg': 0.0, 'neu': 0.811, 'pos': 0.189, 'compound': 0.3252}\n",
            "\n",
            "Tweet: @LiverpoolFF @AnfieldEdition He's a liar, made up. I've unfollowed him as loads of others have. Pure blagger. #LFC\n",
            "Resultado da análise: {'neg': 0.171, 'neu': 0.829, 'pos': 0.0, 'compound': -0.5106}\n",
            "\n",
            "Tweet: @theesk @Everton Didn't realize Kenwright is due to leave at the end of the month. In all seriousness could you see him being interested in us?\n",
            "Resultado da análise: {'neg': 0.085, 'neu': 0.819, 'pos': 0.096, 'compound': 0.3182}\n",
            "\n",
            "Tweet: Report: Linked with #Everton and #Wolves, Italians set to sign £4.5m-rated winger\n",
            "Resultado da análise: {'neg': 0.0, 'neu': 1.0, 'pos': 0.0, 'compound': 0.0}\n",
            "\n",
            "Tweet: @ChelseaFC For the first time in a long while, my heart was relaxed while watching Chelsea. Really enjoyed it today. Come on, CHELSEA!!!\n",
            "Resultado da análise: {'neg': 0.0, 'neu': 0.723, 'pos': 0.277, 'compound': 0.8257}\n",
            "\n",
            "Tweet: Pogba scores, Pogba assists. But tomorrow papers won't be telling you this, instead they will tell you how he'll end up at Juve because he's unhappy, frustrated, has grudges with Mourinho and so on and so forth #mufc\n",
            "Resultado da análise: {'neg': 0.187, 'neu': 0.813, 'pos': 0.0, 'compound': -0.8519}\n",
            "\n",
            "Tweet: @WestHamUtd we need to keep @CH14_ and get @HirvingLozano70 to complement\n",
            "Resultado da análise: {'neg': 0.0, 'neu': 1.0, 'pos': 0.0, 'compound': 0.0}\n",
            "\n",
            "Tweet: @brfootball @aguerosergiokun @ManCity What a genius. Pep taking winning mentality with him, conquering league after league. Baller\n",
            "Resultado da análise: {'neg': 0.0, 'neu': 0.815, 'pos': 0.185, 'compound': 0.5267}\n",
            "\n"
          ]
        }
      ]
    },
    {
      "cell_type": "markdown",
      "source": [],
      "metadata": {
        "id": "eRmLYYuoS9Ge"
      }
    }
  ]
}